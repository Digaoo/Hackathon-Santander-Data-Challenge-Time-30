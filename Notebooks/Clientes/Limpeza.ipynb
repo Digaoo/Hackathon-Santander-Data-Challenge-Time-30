{
 "cells": [
  {
   "cell_type": "markdown",
   "metadata": {},
   "source": [
    "Import das Bibliotecas"
   ]
  },
  {
   "cell_type": "code",
   "execution_count": 1,
   "metadata": {},
   "outputs": [],
   "source": [
    "import pandas as pd\n",
    "import glob\n",
    "import re"
   ]
  },
  {
   "cell_type": "markdown",
   "metadata": {},
   "source": [
    "Organizacao das Bases"
   ]
  },
  {
   "cell_type": "code",
   "execution_count": 2,
   "metadata": {},
   "outputs": [
    {
     "data": {
      "text/plain": [
       "['..\\\\..\\\\Bruto\\\\Clientes\\\\Acampamento\\\\AcampamentoTuristico202001TrimestreCadasturPJ.csv',\n",
       " '..\\\\..\\\\Bruto\\\\Clientes\\\\Acampamento\\\\AcampamentoTuristico202002TrimestreCadasturPJ.csv',\n",
       " '..\\\\..\\\\Bruto\\\\Clientes\\\\Especializados\\\\PrestadorEspecializadoemSegmentosTuristicos202001TrimestreCadasturPJ.csv',\n",
       " '..\\\\..\\\\Bruto\\\\Clientes\\\\Especializados\\\\PrestadorEspecializadoemSegmentosTuristicos202002TrimestreCadasturPJ.csv',\n",
       " '..\\\\..\\\\Bruto\\\\Clientes\\\\Hospedagem\\\\MeiodeHospedagem202001TrimestreCadasturPJ.csv',\n",
       " '..\\\\..\\\\Bruto\\\\Clientes\\\\Hospedagem\\\\MeiodeHospedagem202002TrimestreCadasturPJ.csv',\n",
       " '..\\\\..\\\\Bruto\\\\Clientes\\\\Restaurantes\\\\RestaurantesCafeteriaseBares202001TrimestreCadasturPJ.csv',\n",
       " '..\\\\..\\\\Bruto\\\\Clientes\\\\Restaurantes\\\\RestaurantesCafeteriaseBares202002TrimestreCadasturPJ.csv',\n",
       " '..\\\\..\\\\Bruto\\\\Clientes\\\\Veiculos\\\\LocadoradeVeiculos202001TrimestreCadasturPJ.csv',\n",
       " '..\\\\..\\\\Bruto\\\\Clientes\\\\Veiculos\\\\LocadoradeVeiculos202002TrimestreCadasturPJ.csv']"
      ]
     },
     "execution_count": 2,
     "metadata": {},
     "output_type": "execute_result"
    }
   ],
   "source": [
    "files = glob.glob('..\\\\..\\\\Bruto\\\\Clientes\\\\**\\\\*.csv')\n",
    "files"
   ]
  },
  {
   "cell_type": "code",
   "execution_count": 3,
   "metadata": {},
   "outputs": [],
   "source": [
    "control = {}"
   ]
  },
  {
   "cell_type": "code",
   "execution_count": 4,
   "metadata": {},
   "outputs": [
    {
     "name": "stdout",
     "output_type": "stream",
     "text": [
      "..\\..\\Bruto\\Clientes\\Acampamento\\AcampamentoTuristico202001TrimestreCadasturPJ.csv\n",
      "..\\..\\Bruto\\Clientes\\Acampamento\\AcampamentoTuristico202002TrimestreCadasturPJ.csv\n",
      "..\\..\\Bruto\\Clientes\\Especializados\\PrestadorEspecializadoemSegmentosTuristicos202001TrimestreCadasturPJ.csv\n",
      "..\\..\\Bruto\\Clientes\\Especializados\\PrestadorEspecializadoemSegmentosTuristicos202002TrimestreCadasturPJ.csv\n"
     ]
    },
    {
     "name": "stderr",
     "output_type": "stream",
     "text": [
      "b'Skipping line 108: expected 24 fields, saw 27\\nSkipping line 700: expected 24 fields, saw 25\\nSkipping line 754: expected 24 fields, saw 26\\nSkipping line 1184: expected 24 fields, saw 25\\nSkipping line 1721: expected 24 fields, saw 25\\nSkipping line 1904: expected 24 fields, saw 26\\nSkipping line 1987: expected 24 fields, saw 25\\nSkipping line 2048: expected 24 fields, saw 25\\nSkipping line 2770: expected 24 fields, saw 25\\nSkipping line 2808: expected 24 fields, saw 25\\n'\n",
      "b'Skipping line 128: expected 24 fields, saw 27\\nSkipping line 800: expected 24 fields, saw 25\\nSkipping line 867: expected 24 fields, saw 26\\nSkipping line 1140: expected 24 fields, saw 25\\nSkipping line 1983: expected 24 fields, saw 25\\nSkipping line 2185: expected 24 fields, saw 26\\nSkipping line 2273: expected 24 fields, saw 25\\nSkipping line 2335: expected 24 fields, saw 25\\nSkipping line 3072: expected 24 fields, saw 25\\nSkipping line 3112: expected 24 fields, saw 25\\n'\n"
     ]
    },
    {
     "name": "stdout",
     "output_type": "stream",
     "text": [
      "..\\..\\Bruto\\Clientes\\Hospedagem\\MeiodeHospedagem202001TrimestreCadasturPJ.csv\n",
      "..\\..\\Bruto\\Clientes\\Hospedagem\\MeiodeHospedagem202002TrimestreCadasturPJ.csv\n",
      "..\\..\\Bruto\\Clientes\\Restaurantes\\RestaurantesCafeteriaseBares202001TrimestreCadasturPJ.csv\n",
      "..\\..\\Bruto\\Clientes\\Restaurantes\\RestaurantesCafeteriaseBares202002TrimestreCadasturPJ.csv\n",
      "..\\..\\Bruto\\Clientes\\Veiculos\\LocadoradeVeiculos202001TrimestreCadasturPJ.csv\n",
      "..\\..\\Bruto\\Clientes\\Veiculos\\LocadoradeVeiculos202002TrimestreCadasturPJ.csv\n"
     ]
    }
   ],
   "source": [
    "for f in files:\n",
    "    \n",
    "    print(f)\n",
    "    \n",
    "    ids = re.search(r'^.*?\\\\(\\w+)\\\\\\w+(\\d{4})(\\d{2}).*?$', f)\n",
    "    \n",
    "    dataType = ids.group(1)\n",
    "    dataDate = ids.group(2)+'T'+ids.group(3)\n",
    "    \n",
    "    df = pd.read_csv(f, sep=';', error_bad_lines=False)\n",
    "    df['Trimestre'] = dataDate\n",
    "    \n",
    "    if dataType in control:\n",
    "        \n",
    "        control[dataType] = pd.concat([control[dataType], df], ignore_index = True)\n",
    "        \n",
    "    else:\n",
    "    \n",
    "        control[dataType] = df"
   ]
  },
  {
   "cell_type": "code",
   "execution_count": 5,
   "metadata": {},
   "outputs": [
    {
     "data": {
      "text/plain": [
       "dict_keys(['Acampamento', 'Especializados', 'Hospedagem', 'Restaurantes', 'Veiculos'])"
      ]
     },
     "execution_count": 5,
     "metadata": {},
     "output_type": "execute_result"
    }
   ],
   "source": [
    "control.keys()"
   ]
  },
  {
   "cell_type": "code",
   "execution_count": 6,
   "metadata": {},
   "outputs": [],
   "source": [
    "for data in control:\n",
    "    \n",
    "    control[data] = control[data].drop_duplicates(subset=['CNPJ'])\n",
    "    control[data] = control[data].apply(lambda x : x.strip() if isinstance(x, str) else x)\n",
    "    control[data] = control[data].loc[(control[data]['UF'] is not None) | (control[data]['UF'] != '-') | (control[data]['Localidade'] is not None) | (control[data]['Localidade'] != '-')]"
   ]
  },
  {
   "cell_type": "code",
   "execution_count": 7,
   "metadata": {},
   "outputs": [],
   "source": [
    "for data in control:\n",
    "    \n",
    "    control[data].to_csv('..\\\\..\\\\Normalizado\\\\Clientes\\\\Total\\{}.csv'.format(data), sep=';', index=False)\n",
    "    control[data].to_csv('..\\\\..\\\\Normalizado\\\\Clientes\\\\Min\\\\{}.csv'.format(data), sep=';', index=False, columns=['Nome Fantasia', 'CNPJ','Porte','UF','Localidade','Email Comercial'])"
   ]
  },
  {
   "cell_type": "code",
   "execution_count": null,
   "metadata": {},
   "outputs": [],
   "source": []
  }
 ],
 "metadata": {
  "kernelspec": {
   "display_name": "Python 3",
   "language": "python",
   "name": "python3"
  },
  "language_info": {
   "codemirror_mode": {
    "name": "ipython",
    "version": 3
   },
   "file_extension": ".py",
   "mimetype": "text/x-python",
   "name": "python",
   "nbconvert_exporter": "python",
   "pygments_lexer": "ipython3",
   "version": "3.5.4"
  }
 },
 "nbformat": 4,
 "nbformat_minor": 4
}
