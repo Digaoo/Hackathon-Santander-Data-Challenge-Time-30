{
 "cells": [
  {
   "cell_type": "code",
   "execution_count": 31,
   "metadata": {},
   "outputs": [],
   "source": [
    "import pandas as pd\n",
    "import glob\n",
    "import re\n",
    "import pickle"
   ]
  },
  {
   "cell_type": "code",
   "execution_count": 2,
   "metadata": {},
   "outputs": [
    {
     "data": {
      "text/plain": [
       "['..\\\\..\\\\Normalizado\\\\Inferencia\\\\Fortaleza.csv',\n",
       " '..\\\\..\\\\Normalizado\\\\Inferencia\\\\Joao_Pessoa.csv',\n",
       " '..\\\\..\\\\Normalizado\\\\Inferencia\\\\Maceio.csv',\n",
       " '..\\\\..\\\\Normalizado\\\\Inferencia\\\\Recife.csv',\n",
       " '..\\\\..\\\\Normalizado\\\\Inferencia\\\\Salvador.csv']"
      ]
     },
     "execution_count": 2,
     "metadata": {},
     "output_type": "execute_result"
    }
   ],
   "source": [
    "files = glob.glob('..\\\\..\\\\Normalizado\\\\Inferencia\\\\*.csv')\n",
    "files"
   ]
  },
  {
   "cell_type": "code",
   "execution_count": 6,
   "metadata": {},
   "outputs": [
    {
     "name": "stdout",
     "output_type": "stream",
     "text": [
      "..\\..\\Normalizado\\Inferencia\\Fortaleza.csv\n",
      "..\\..\\Normalizado\\Inferencia\\Joao_Pessoa.csv\n",
      "..\\..\\Normalizado\\Inferencia\\Maceio.csv\n",
      "..\\..\\Normalizado\\Inferencia\\Recife.csv\n",
      "..\\..\\Normalizado\\Inferencia\\Salvador.csv\n"
     ]
    }
   ],
   "source": [
    "control = {}\n",
    "\n",
    "for f in files:\n",
    "    \n",
    "    print(f)\n",
    "    \n",
    "    city = re.search(r'(\\w+)\\.csv$', f).group(1)\n",
    "        \n",
    "    df = pd.read_csv(f, sep=';', error_bad_lines=False)\n",
    "    df['Cidade'] = city\n",
    "    \n",
    "    if city in control:\n",
    "        \n",
    "        control[city] = pd.concat([control[city], df], ignore_index = True)\n",
    "        \n",
    "    else:\n",
    "    \n",
    "        control[city] = df"
   ]
  },
  {
   "cell_type": "code",
   "execution_count": 7,
   "metadata": {},
   "outputs": [
    {
     "data": {
      "text/plain": [
       "dict_keys(['Salvador', 'Fortaleza', 'Recife', 'Joao_Pessoa', 'Maceio'])"
      ]
     },
     "execution_count": 7,
     "metadata": {},
     "output_type": "execute_result"
    }
   ],
   "source": [
    "control.keys()"
   ]
  },
  {
   "cell_type": "code",
   "execution_count": 8,
   "metadata": {},
   "outputs": [],
   "source": [
    "for key in control:\n",
    "    \n",
    "    control[key] = control[key].tail(7)"
   ]
  },
  {
   "cell_type": "code",
   "execution_count": 10,
   "metadata": {},
   "outputs": [
    {
     "data": {
      "text/html": [
       "<div>\n",
       "<style scoped>\n",
       "    .dataframe tbody tr th:only-of-type {\n",
       "        vertical-align: middle;\n",
       "    }\n",
       "\n",
       "    .dataframe tbody tr th {\n",
       "        vertical-align: top;\n",
       "    }\n",
       "\n",
       "    .dataframe thead th {\n",
       "        text-align: right;\n",
       "    }\n",
       "</style>\n",
       "<table border=\"1\" class=\"dataframe\">\n",
       "  <thead>\n",
       "    <tr style=\"text-align: right;\">\n",
       "      <th></th>\n",
       "      <th>regiao</th>\n",
       "      <th>estado</th>\n",
       "      <th>municipio</th>\n",
       "      <th>coduf</th>\n",
       "      <th>codmun</th>\n",
       "      <th>codRegiaoSaude</th>\n",
       "      <th>nomeRegiaoSaude</th>\n",
       "      <th>data</th>\n",
       "      <th>semanaEpi</th>\n",
       "      <th>populacaoTCU2019</th>\n",
       "      <th>casosAcumulado</th>\n",
       "      <th>casosNovos</th>\n",
       "      <th>obitosAcumulado</th>\n",
       "      <th>obitosNovos</th>\n",
       "      <th>Recuperadosnovos</th>\n",
       "      <th>emAcompanhamentoNovos</th>\n",
       "      <th>interior/metropolitana</th>\n",
       "      <th>Cidade</th>\n",
       "    </tr>\n",
       "  </thead>\n",
       "  <tbody>\n",
       "    <tr>\n",
       "      <th>120</th>\n",
       "      <td>Nordeste</td>\n",
       "      <td>BA</td>\n",
       "      <td>Salvador</td>\n",
       "      <td>29</td>\n",
       "      <td>292740</td>\n",
       "      <td>29020</td>\n",
       "      <td>SALVADOR</td>\n",
       "      <td>25/07/2020</td>\n",
       "      <td>30</td>\n",
       "      <td>2872347</td>\n",
       "      <td>52020</td>\n",
       "      <td>843</td>\n",
       "      <td>1636</td>\n",
       "      <td>6</td>\n",
       "      <td>NaN</td>\n",
       "      <td>NaN</td>\n",
       "      <td>1</td>\n",
       "      <td>Salvador</td>\n",
       "    </tr>\n",
       "    <tr>\n",
       "      <th>121</th>\n",
       "      <td>Nordeste</td>\n",
       "      <td>BA</td>\n",
       "      <td>Salvador</td>\n",
       "      <td>29</td>\n",
       "      <td>292740</td>\n",
       "      <td>29020</td>\n",
       "      <td>SALVADOR</td>\n",
       "      <td>26/07/2020</td>\n",
       "      <td>31</td>\n",
       "      <td>2872347</td>\n",
       "      <td>52263</td>\n",
       "      <td>243</td>\n",
       "      <td>1641</td>\n",
       "      <td>5</td>\n",
       "      <td>NaN</td>\n",
       "      <td>NaN</td>\n",
       "      <td>1</td>\n",
       "      <td>Salvador</td>\n",
       "    </tr>\n",
       "    <tr>\n",
       "      <th>122</th>\n",
       "      <td>Nordeste</td>\n",
       "      <td>BA</td>\n",
       "      <td>Salvador</td>\n",
       "      <td>29</td>\n",
       "      <td>292740</td>\n",
       "      <td>29020</td>\n",
       "      <td>SALVADOR</td>\n",
       "      <td>27/07/2020</td>\n",
       "      <td>31</td>\n",
       "      <td>2872347</td>\n",
       "      <td>52417</td>\n",
       "      <td>154</td>\n",
       "      <td>1649</td>\n",
       "      <td>8</td>\n",
       "      <td>NaN</td>\n",
       "      <td>NaN</td>\n",
       "      <td>1</td>\n",
       "      <td>Salvador</td>\n",
       "    </tr>\n",
       "    <tr>\n",
       "      <th>123</th>\n",
       "      <td>Nordeste</td>\n",
       "      <td>BA</td>\n",
       "      <td>Salvador</td>\n",
       "      <td>29</td>\n",
       "      <td>292740</td>\n",
       "      <td>29020</td>\n",
       "      <td>SALVADOR</td>\n",
       "      <td>28/07/2020</td>\n",
       "      <td>31</td>\n",
       "      <td>2872347</td>\n",
       "      <td>53520</td>\n",
       "      <td>1103</td>\n",
       "      <td>1655</td>\n",
       "      <td>6</td>\n",
       "      <td>NaN</td>\n",
       "      <td>NaN</td>\n",
       "      <td>1</td>\n",
       "      <td>Salvador</td>\n",
       "    </tr>\n",
       "    <tr>\n",
       "      <th>124</th>\n",
       "      <td>Nordeste</td>\n",
       "      <td>BA</td>\n",
       "      <td>Salvador</td>\n",
       "      <td>29</td>\n",
       "      <td>292740</td>\n",
       "      <td>29020</td>\n",
       "      <td>SALVADOR</td>\n",
       "      <td>29/07/2020</td>\n",
       "      <td>31</td>\n",
       "      <td>2872347</td>\n",
       "      <td>54488</td>\n",
       "      <td>968</td>\n",
       "      <td>1669</td>\n",
       "      <td>14</td>\n",
       "      <td>NaN</td>\n",
       "      <td>NaN</td>\n",
       "      <td>1</td>\n",
       "      <td>Salvador</td>\n",
       "    </tr>\n",
       "    <tr>\n",
       "      <th>125</th>\n",
       "      <td>Nordeste</td>\n",
       "      <td>BA</td>\n",
       "      <td>Salvador</td>\n",
       "      <td>29</td>\n",
       "      <td>292740</td>\n",
       "      <td>29020</td>\n",
       "      <td>SALVADOR</td>\n",
       "      <td>30/07/2020</td>\n",
       "      <td>31</td>\n",
       "      <td>2872347</td>\n",
       "      <td>55502</td>\n",
       "      <td>1014</td>\n",
       "      <td>1714</td>\n",
       "      <td>45</td>\n",
       "      <td>NaN</td>\n",
       "      <td>NaN</td>\n",
       "      <td>1</td>\n",
       "      <td>Salvador</td>\n",
       "    </tr>\n",
       "    <tr>\n",
       "      <th>126</th>\n",
       "      <td>Nordeste</td>\n",
       "      <td>BA</td>\n",
       "      <td>Salvador</td>\n",
       "      <td>29</td>\n",
       "      <td>292740</td>\n",
       "      <td>29020</td>\n",
       "      <td>SALVADOR</td>\n",
       "      <td>31/07/2020</td>\n",
       "      <td>31</td>\n",
       "      <td>2872347</td>\n",
       "      <td>56740</td>\n",
       "      <td>1238</td>\n",
       "      <td>1755</td>\n",
       "      <td>41</td>\n",
       "      <td>NaN</td>\n",
       "      <td>NaN</td>\n",
       "      <td>1</td>\n",
       "      <td>Salvador</td>\n",
       "    </tr>\n",
       "  </tbody>\n",
       "</table>\n",
       "</div>"
      ],
      "text/plain": [
       "       regiao estado municipio  coduf  codmun  codRegiaoSaude nomeRegiaoSaude  \\\n",
       "120  Nordeste     BA  Salvador     29  292740           29020        SALVADOR   \n",
       "121  Nordeste     BA  Salvador     29  292740           29020        SALVADOR   \n",
       "122  Nordeste     BA  Salvador     29  292740           29020        SALVADOR   \n",
       "123  Nordeste     BA  Salvador     29  292740           29020        SALVADOR   \n",
       "124  Nordeste     BA  Salvador     29  292740           29020        SALVADOR   \n",
       "125  Nordeste     BA  Salvador     29  292740           29020        SALVADOR   \n",
       "126  Nordeste     BA  Salvador     29  292740           29020        SALVADOR   \n",
       "\n",
       "           data  semanaEpi  populacaoTCU2019  casosAcumulado  casosNovos  \\\n",
       "120  25/07/2020         30           2872347           52020         843   \n",
       "121  26/07/2020         31           2872347           52263         243   \n",
       "122  27/07/2020         31           2872347           52417         154   \n",
       "123  28/07/2020         31           2872347           53520        1103   \n",
       "124  29/07/2020         31           2872347           54488         968   \n",
       "125  30/07/2020         31           2872347           55502        1014   \n",
       "126  31/07/2020         31           2872347           56740        1238   \n",
       "\n",
       "     obitosAcumulado  obitosNovos  Recuperadosnovos  emAcompanhamentoNovos  \\\n",
       "120             1636            6               NaN                    NaN   \n",
       "121             1641            5               NaN                    NaN   \n",
       "122             1649            8               NaN                    NaN   \n",
       "123             1655            6               NaN                    NaN   \n",
       "124             1669           14               NaN                    NaN   \n",
       "125             1714           45               NaN                    NaN   \n",
       "126             1755           41               NaN                    NaN   \n",
       "\n",
       "     interior/metropolitana    Cidade  \n",
       "120                       1  Salvador  \n",
       "121                       1  Salvador  \n",
       "122                       1  Salvador  \n",
       "123                       1  Salvador  \n",
       "124                       1  Salvador  \n",
       "125                       1  Salvador  \n",
       "126                       1  Salvador  "
      ]
     },
     "execution_count": 10,
     "metadata": {},
     "output_type": "execute_result"
    }
   ],
   "source": [
    "control[list(control.keys())[0]]"
   ]
  },
  {
   "cell_type": "code",
   "execution_count": 27,
   "metadata": {},
   "outputs": [
    {
     "name": "stderr",
     "output_type": "stream",
     "text": [
      "C:\\Users\\DELL\\.conda\\envs\\hackatonV2\\lib\\site-packages\\ipykernel_launcher.py:10: DeprecationWarning: In future, it will be an error for 'np.bool_' scalars to be interpreted as an index\n",
      "  # Remove the CWD from sys.path while we load stuff.\n",
      "C:\\Users\\DELL\\.conda\\envs\\hackatonV2\\lib\\site-packages\\ipykernel_launcher.py:11: DeprecationWarning: In future, it will be an error for 'np.bool_' scalars to be interpreted as an index\n",
      "  # This is added back by InteractiveShellApp.init_path()\n"
     ]
    }
   ],
   "source": [
    "data = {}\n",
    "\n",
    "for key in control:\n",
    "\n",
    "    sums = control[key].sum(axis = 0, skipna = True).to_dict()\n",
    "    \n",
    "    data[key] = {\n",
    "        'deaths7perc': (sums[\"obitosNovos\"] / control[key].iloc[0][\"populacaoTCU2019\"]) * 100,\n",
    "        'cases7perc': (sums[\"casosNovos\"] / control[key].iloc[0][\"populacaoTCU2019\"]) * 100,\n",
    "        'deaths7Trend': (1, 0) [(control[key].iloc[-2][\"obitosNovos\"] - control[key].iloc[-1][\"obitosNovos\"]) > 0],\n",
    "        'cases7Trend': (1, 0) [(control[key].iloc[-2][\"casosNovos\"] - control[key].iloc[-1][\"casosNovos\"]) > 0]\n",
    "    }"
   ]
  },
  {
   "cell_type": "code",
   "execution_count": 28,
   "metadata": {},
   "outputs": [
    {
     "data": {
      "text/plain": [
       "{'Fortaleza': {'cases7Trend': 0,\n",
       "  'cases7perc': 0.04753980568994157,\n",
       "  'deaths7Trend': 1,\n",
       "  'deaths7perc': 0.0014235718015900547},\n",
       " 'Joao_Pessoa': {'cases7Trend': 1,\n",
       "  'cases7perc': 0.20654746821752376,\n",
       "  'deaths7Trend': 0,\n",
       "  'deaths7perc': 0.007169211942918239},\n",
       " 'Maceio': {'cases7Trend': 0,\n",
       "  'cases7perc': 0.14878089951597137,\n",
       "  'deaths7Trend': 1,\n",
       "  'deaths7perc': 0.002747932181033772},\n",
       " 'Recife': {'cases7Trend': 1,\n",
       "  'cases7perc': 0.09503398801866896,\n",
       "  'deaths7Trend': 0,\n",
       "  'deaths7perc': 0.003524278328058056},\n",
       " 'Salvador': {'cases7Trend': 1,\n",
       "  'cases7perc': 0.19367437151569777,\n",
       "  'deaths7Trend': 0,\n",
       "  'deaths7perc': 0.004351841890969301}}"
      ]
     },
     "execution_count": 28,
     "metadata": {},
     "output_type": "execute_result"
    }
   ],
   "source": [
    "data"
   ]
  },
  {
   "cell_type": "code",
   "execution_count": 32,
   "metadata": {},
   "outputs": [],
   "source": [
    "with open(\"..\\\\..\\\\Modelos\\\\regressaoV2.pkl\",\"rb\") as f:\n",
    "    model = pickle.load(f)"
   ]
  },
  {
   "cell_type": "code",
   "execution_count": 33,
   "metadata": {},
   "outputs": [
    {
     "data": {
      "text/plain": [
       "AdaBoostRegressor(base_estimator=None, learning_rate=0.1, loss='linear',\n",
       "         n_estimators=500, random_state=42)"
      ]
     },
     "execution_count": 33,
     "metadata": {},
     "output_type": "execute_result"
    }
   ],
   "source": [
    "model"
   ]
  },
  {
   "cell_type": "code",
   "execution_count": 41,
   "metadata": {},
   "outputs": [
    {
     "name": "stdout",
     "output_type": "stream",
     "text": [
      "Joao_Pessoa\n",
      "[0.007169211942918239, 0.20654746821752376, 0, 1]\n",
      "[12.0625]\n",
      "Fortaleza\n",
      "[0.0014235718015900547, 0.04753980568994157, 1, 0]\n",
      "[23.]\n",
      "Recife\n",
      "[0.003524278328058056, 0.09503398801866896, 0, 1]\n",
      "[12.0625]\n",
      "Salvador\n",
      "[0.004351841890969301, 0.19367437151569777, 0, 1]\n",
      "[12.0625]\n",
      "Maceio\n",
      "[0.002747932181033772, 0.14878089951597137, 1, 0]\n",
      "[23.]\n"
     ]
    }
   ],
   "source": [
    "predictions = {}\n",
    "\n",
    "for city in data:\n",
    "    \n",
    "    print(city)\n",
    "    \n",
    "    datum = [data[city][\"deaths7perc\"], data[city][\"cases7perc\"], data[city][\"deaths7Trend\"], data[city][\"cases7Trend\"]]\n",
    "    \n",
    "    predictions[city] = model.predict([datum])\n",
    "    \n",
    "    print(datum)\n",
    "    print(predictions[city])"
   ]
  },
  {
   "cell_type": "code",
   "execution_count": 45,
   "metadata": {},
   "outputs": [
    {
     "name": "stdout",
     "output_type": "stream",
     "text": [
      "Salvador : 13 22 27\n",
      "Fortaleza : 23 33 38\n",
      "Recife : 13 22 27\n",
      "Joao_Pessoa : 13 22 27\n",
      "Maceio : 23 33 38\n"
     ]
    }
   ],
   "source": [
    "from math import ceil\n",
    "\n",
    "modelRMSE = 4.858189601618989\n",
    "\n",
    "for city in predictions:\n",
    "    \n",
    "    print(city,\":\",ceil(predictions[city]),ceil(predictions[city] + 2*modelRMSE), ceil(predictions[city] + 3*modelRMSE))"
   ]
  },
  {
   "cell_type": "code",
   "execution_count": null,
   "metadata": {},
   "outputs": [],
   "source": []
  }
 ],
 "metadata": {
  "kernelspec": {
   "display_name": "Python 3",
   "language": "python",
   "name": "python3"
  },
  "language_info": {
   "codemirror_mode": {
    "name": "ipython",
    "version": 3
   },
   "file_extension": ".py",
   "mimetype": "text/x-python",
   "name": "python",
   "nbconvert_exporter": "python",
   "pygments_lexer": "ipython3",
   "version": "3.5.4"
  }
 },
 "nbformat": 4,
 "nbformat_minor": 4
}
